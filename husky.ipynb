{
 "cells": [
  {
   "cell_type": "code",
   "execution_count": 11,
   "metadata": {
    "collapsed": true
   },
   "outputs": [],
   "source": [
    "# Basic imports\n",
    "import discord\n",
    "from discord.ext import commands\n",
    "import asyncio\n",
    "import json"
   ]
  },
  {
   "cell_type": "code",
   "execution_count": 12,
   "metadata": {
    "collapsed": true
   },
   "outputs": [],
   "source": [
    "# Load configuration\n",
    "with open('./config.json', 'r') as config_file:\n",
    "    config = json.load(config_file)"
   ]
  },
  {
   "cell_type": "code",
   "execution_count": null,
   "metadata": {},
   "outputs": [
    {
     "name": "stdout",
     "output_type": "stream",
     "text": [
      "Logged in as\n",
      "aebot\n",
      "365729189803982848\n",
      "------\n"
     ]
    }
   ],
   "source": [
    "import discord\n",
    "from discord.ext import commands\n",
    "import random\n",
    "\n",
    "description = '''An example bot to showcase the discord.ext.commands extension\n",
    "module.\n",
    "\n",
    "There are a number of utility commands being showcased here.'''\n",
    "bot = commands.Bot(command_prefix = config['prefix'], description = description)\n",
    "\n",
    "@bot.event\n",
    "async def on_ready():\n",
    "    print('Logged in as')\n",
    "    print(bot.user.name)\n",
    "    print(bot.user.id)\n",
    "    print('------')\n",
    "\n",
    "@bot.command()\n",
    "async def add(left : int, right : int):\n",
    "    \"\"\"Adds two numbers together.\"\"\"\n",
    "    await bot.say(left + right)\n",
    "\n",
    "@bot.command()\n",
    "async def roll(dice : str):\n",
    "    \"\"\"Rolls a dice in NdN format.\"\"\"\n",
    "    try:\n",
    "        rolls, limit = map(int, dice.split('d'))\n",
    "    except Exception:\n",
    "        await bot.say('Format has to be in NdN!')\n",
    "        return\n",
    "\n",
    "    result = ', '.join(str(random.randint(1, limit)) for r in range(rolls))\n",
    "    await bot.say(result)\n",
    "\n",
    "@bot.command(description='For when you wanna settle the score some other way')\n",
    "async def choose(*choices : str):\n",
    "    \"\"\"Chooses between multiple choices.\"\"\"\n",
    "    await bot.say(random.choice(choices))\n",
    "\n",
    "@bot.command()\n",
    "async def repeat(times : int, content='repeating...'):\n",
    "    \"\"\"Repeats a message multiple times.\"\"\"\n",
    "    for i in range(times):\n",
    "        await bot.say(content)\n",
    "\n",
    "@bot.command()\n",
    "async def joined(member : discord.Member):\n",
    "    \"\"\"Says when a member joined.\"\"\"\n",
    "    await bot.say('{0.name} joined in {0.joined_at}'.format(member))\n",
    "\n",
    "@bot.group(pass_context=True)\n",
    "async def cool(ctx):\n",
    "    \"\"\"Says if a user is cool.\n",
    "\n",
    "    In reality this just checks if a subcommand is being invoked.\n",
    "    \"\"\"\n",
    "    if ctx.invoked_subcommand is None:\n",
    "        await bot.say('No, {0.subcommand_passed} is not cool'.format(ctx))\n",
    "\n",
    "@cool.command(name='bot')\n",
    "async def _bot():\n",
    "    \"\"\"Is the bot cool?\"\"\"\n",
    "    await bot.say('Yes, the bot is cool.')\n",
    "\n",
    "bot.run(config['token'])\n"
   ]
  },
  {
   "cell_type": "code",
   "execution_count": 2,
   "metadata": {
    "collapsed": true
   },
   "outputs": [],
   "source": [
    "# import logging# logger = logging.getLo('aeb')\n",
    "# hdlr = logging.FileHandler('aeb.log')\n",
    "# formatter = logging.Formatter('%(asctime)s %(levelname)s %(message)s')\n",
    "# hdlr.setFormatter(formatter)\n",
    "# if len(logger.handlers) == 0:\n",
    "#     logger.addHandler(hdlr)\n",
    "# print len(logger.handlers):\n",
    "#     logger.setLevel(logging.DEBUG)"
   ]
  }
 ],
 "metadata": {
  "kernelspec": {
   "display_name": "Python 3",
   "language": "python",
   "name": "python3"
  },
  "language_info": {
   "codemirror_mode": {
    "name": "ipython",
    "version": 3
   },
   "file_extension": ".py",
   "mimetype": "text/x-python",
   "name": "python",
   "nbconvert_exporter": "python",
   "pygments_lexer": "ipython3",
   "version": "3.6.1"
  }
 },
 "nbformat": 4,
 "nbformat_minor": 2
}
